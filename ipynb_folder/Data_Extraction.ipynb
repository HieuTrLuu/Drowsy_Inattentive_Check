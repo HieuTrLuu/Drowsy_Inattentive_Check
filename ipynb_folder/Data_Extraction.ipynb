{
 "cells": [
  {
   "cell_type": "code",
   "execution_count": 1,
   "metadata": {
    "execution": {
     "iopub.execute_input": "2021-02-13T12:34:13.927277Z",
     "iopub.status.busy": "2021-02-13T12:34:13.917411Z",
     "iopub.status.idle": "2021-02-13T12:34:23.907085Z",
     "shell.execute_reply": "2021-02-13T12:34:23.906376Z"
    },
    "papermill": {
     "duration": 10.001517,
     "end_time": "2021-02-13T12:34:23.907311",
     "exception": false,
     "start_time": "2021-02-13T12:34:13.905794",
     "status": "completed"
    },
    "tags": []
   },
   "outputs": [
    {
     "name": "stdout",
     "output_type": "stream",
     "text": [
      "Collecting imutils\r\n",
      "  Downloading imutils-0.5.4.tar.gz (17 kB)\r\n",
      "Building wheels for collected packages: imutils\r\n",
      "  Building wheel for imutils (setup.py) ... \u001b[?25l-\b \b\\\b \bdone\r\n",
      "\u001b[?25h  Created wheel for imutils: filename=imutils-0.5.4-py3-none-any.whl size=25860 sha256=8ede2f1d55755f52f1b48d11f5f5cca2c2576d31884945a6921d20f832e54646\r\n",
      "  Stored in directory: /root/.cache/pip/wheels/86/d7/0a/4923351ed1cec5d5e24c1eaf8905567b02a0343b24aa873df2\r\n",
      "Successfully built imutils\r\n",
      "Installing collected packages: imutils\r\n",
      "Successfully installed imutils-0.5.4\r\n",
      "\u001b[33mWARNING: You are using pip version 21.0; however, version 21.0.1 is available.\r\n",
      "You should consider upgrading via the '/opt/conda/bin/python3.7 -m pip install --upgrade pip' command.\u001b[0m\r\n"
     ]
    }
   ],
   "source": [
    "! pip install --upgrade imutils"
   ]
  },
  {
   "cell_type": "code",
   "execution_count": 2,
   "metadata": {
    "_cell_guid": "b1076dfc-b9ad-4769-8c92-a6c4dae69d19",
    "_uuid": "8f2839f25d086af736a60e9eeb907d3b93b6e0e5",
    "execution": {
     "iopub.execute_input": "2021-02-13T12:34:23.930865Z",
     "iopub.status.busy": "2021-02-13T12:34:23.930205Z",
     "iopub.status.idle": "2021-02-13T12:34:24.217774Z",
     "shell.execute_reply": "2021-02-13T12:34:24.217243Z"
    },
    "papermill": {
     "duration": 0.301756,
     "end_time": "2021-02-13T12:34:24.217916",
     "exception": false,
     "start_time": "2021-02-13T12:34:23.916160",
     "status": "completed"
    },
    "tags": []
   },
   "outputs": [],
   "source": [
    "from imutils.video import FileVideoStream\n",
    "from imutils.video import FPS\n",
    "from imutils import face_utils\n",
    "import numpy as np\n",
    "import imutils\n",
    "import time\n",
    "import cv2\n",
    "import pandas as pd\n",
    "import os\n",
    "from queue import Queue\n",
    "import matplotlib.pyplot as plt\n",
    "import dlib"
   ]
  },
  {
   "cell_type": "code",
   "execution_count": 3,
   "metadata": {
    "execution": {
     "iopub.execute_input": "2021-02-13T12:34:24.242217Z",
     "iopub.status.busy": "2021-02-13T12:34:24.241262Z",
     "iopub.status.idle": "2021-02-13T12:34:24.244593Z",
     "shell.execute_reply": "2021-02-13T12:34:24.244104Z"
    },
    "papermill": {
     "duration": 0.018868,
     "end_time": "2021-02-13T12:34:24.244738",
     "exception": false,
     "start_time": "2021-02-13T12:34:24.225870",
     "status": "completed"
    },
    "tags": []
   },
   "outputs": [],
   "source": [
    "SIZE = (128, 128)\n",
    "WHITE = (255,255,255)\n",
    "np.random.seed(42)\n",
    "\n",
    "def create_optical_flow_img(landmarks1, landmarks2, show=False) : \n",
    "    optical_flow = np.zeros((SIZE[0],SIZE[1],3),dtype = np.uint8)\n",
    "    for i in range(len(landmarks1)) :\n",
    "        lm1 = tuple(landmarks1[i])\n",
    "        lm2 = tuple(landmarks2[i])\n",
    "        optical_flow = cv2.line(optical_flow, lm1, lm2, WHITE, 1)\n",
    "    if show :\n",
    "        plt.imshow(optical_flow)\n",
    "        plt.show()\n",
    "    return optical_flow\n",
    "\n",
    "# l1 = np.random.randint(low=0, high=SIZE[0], size=(17,2))\n",
    "# l2 = np.random.randint(low=0, high=SIZE[0], size=(17,2))\n",
    "# sanity = create_optical_flow_img(l1, l2, True)"
   ]
  },
  {
   "cell_type": "code",
   "execution_count": 4,
   "metadata": {
    "execution": {
     "iopub.execute_input": "2021-02-13T12:34:24.290569Z",
     "iopub.status.busy": "2021-02-13T12:34:24.287107Z",
     "iopub.status.idle": "2021-02-13T12:34:27.633026Z",
     "shell.execute_reply": "2021-02-13T12:34:27.632225Z"
    },
    "papermill": {
     "duration": 3.38017,
     "end_time": "2021-02-13T12:34:27.633217",
     "exception": false,
     "start_time": "2021-02-13T12:34:24.253047",
     "status": "completed"
    },
    "tags": []
   },
   "outputs": [],
   "source": [
    "!mkdir Images\n",
    "\n",
    "\n",
    "img_dir = './Images'\n",
    "\n",
    "detector = dlib.get_frontal_face_detector()\n",
    "predictor = dlib.shape_predictor(\n",
    "    '../input/facealignmentmodels/shape_predictor_68_face_landmarks.dat'\n",
    ")\n",
    "\n",
    "def get_data_frame(path, length=60, sample=2, distance=180, save=False) :\n",
    "    fvs = FileVideoStream(path).start()\n",
    "    fps = FPS().start()\n",
    "    count = 0\n",
    "    label = int(path.split('/')[-1][:-4])\n",
    "    data_points = []\n",
    "    optical_flows = []\n",
    "    read = True\n",
    "    frame_read = 0\n",
    "    frame_count = 0\n",
    "    last_read = 0\n",
    "    data_count = 0\n",
    "    prev_landmarks = None\n",
    "    while fvs.more() :\n",
    "        frame = fvs.read()\n",
    "        if frame is None :\n",
    "            break\n",
    "        if read :\n",
    "            if (frame_count - last_read) % sample == 0 or frame_read == 0 :\n",
    "                # TO-DO: \n",
    "                # Face extraction\n",
    "                try :\n",
    "                    gray = cv2.cvtColor(frame, cv2.COLOR_BGR2GRAY)\n",
    "                except :\n",
    "                    print(frame_count)\n",
    "                    print(frame)\n",
    "                    plt.imshow(frame)\n",
    "                    plt.show()\n",
    "                faces = detector(gray, 0)\n",
    "                if (len(faces) == 0) :\n",
    "                    frame_read = 0\n",
    "                    frame_count += 1\n",
    "                    continue\n",
    "                idx = np.argmax([f.area() for f in faces])\n",
    "                face = faces[idx]\n",
    "                landmarks = predictor(gray, face)\n",
    "                landmarks = face_utils.shape_to_np(landmarks)[18:,:].reshape(-1)\n",
    "                tl = face.tl_corner()\n",
    "                br = face.br_corner()\n",
    "                landmarks = np.hstack([[\n",
    "                    data_count,\n",
    "                    frame_count,\n",
    "                    path,\n",
    "                    label,\n",
    "                    tl.x, \n",
    "                    tl.y, \n",
    "                    br.x, \n",
    "                    br.y\n",
    "                ],landmarks])\n",
    "                \n",
    "                filename = path + '_' + str(frame_count) + '.jpg'\n",
    "                cv2.imwrite(os.path.join(img_dir, filename), frame)\n",
    "                \n",
    "                if frame_read == 0 :\n",
    "                    data_point = landmarks\n",
    "                else :\n",
    "                    data_point = np.vstack([data_point, landmarks])\n",
    "\n",
    "                last_read = frame_count\n",
    "                frame_read += 1\n",
    "                if frame_read == length :\n",
    "                    read = False\n",
    "                    frame_read = 0\n",
    "                    data_count += 1\n",
    "                    data_points.append(data_point)\n",
    "        else :\n",
    "            if frame_count - last_read == distance - 1 :\n",
    "                read = True\n",
    "        frame_count += 1\n",
    "        fps.update()\n",
    "    fps.stop()\n",
    "    fvs.stop()\n",
    "    return np.vstack(data_points)"
   ]
  },
  {
   "cell_type": "code",
   "execution_count": 5,
   "metadata": {
    "execution": {
     "iopub.execute_input": "2021-02-13T12:34:27.660141Z",
     "iopub.status.busy": "2021-02-13T12:34:27.659436Z",
     "iopub.status.idle": "2021-02-13T12:34:27.666729Z",
     "shell.execute_reply": "2021-02-13T12:34:27.666071Z"
    },
    "papermill": {
     "duration": 0.025222,
     "end_time": "2021-02-13T12:34:27.666880",
     "exception": false,
     "start_time": "2021-02-13T12:34:27.641658",
     "status": "completed"
    },
    "tags": []
   },
   "outputs": [
    {
     "data": {
      "text/plain": [
       "108"
      ]
     },
     "execution_count": 5,
     "metadata": {},
     "output_type": "execute_result"
    }
   ],
   "source": [
    "landmark_ids = []\n",
    "for i in range(18,68) :\n",
    "    landmark_ids.append('l_' + str(i) + '_x')\n",
    "    landmark_ids.append('l_' + str(i) + '_y')\n",
    "columns = [\n",
    "    'id',\n",
    "    'frame',\n",
    "    'file',\n",
    "    'label',\n",
    "    'x_min',\n",
    "    'y_min',\n",
    "    'x_max',\n",
    "    'y_max'\n",
    "]\n",
    "columns += landmark_ids\n",
    "len(columns)"
   ]
  },
  {
   "cell_type": "code",
   "execution_count": 6,
   "metadata": {
    "execution": {
     "iopub.execute_input": "2021-02-13T12:34:27.691016Z",
     "iopub.status.busy": "2021-02-13T12:34:27.690400Z",
     "iopub.status.idle": "2021-02-13T17:23:46.418025Z",
     "shell.execute_reply": "2021-02-13T17:23:46.418744Z"
    },
    "papermill": {
     "duration": 17358.743371,
     "end_time": "2021-02-13T17:23:46.419015",
     "exception": false,
     "start_time": "2021-02-13T12:34:27.675644",
     "status": "completed"
    },
    "tags": []
   },
   "outputs": [
    {
     "name": "stderr",
     "output_type": "stream",
     "text": [
      "  0%|          | 0/3 [00:00<?, ?it/s]"
     ]
    },
    {
     "name": "stdout",
     "output_type": "stream",
     "text": [
      "../input/drowsiness-dataset-fold1-1/Fold1_part1/05/10.MOV\n"
     ]
    },
    {
     "name": "stderr",
     "output_type": "stream",
     "text": [
      " 33%|███▎      | 1/3 [10:10<20:21, 610.64s/it]"
     ]
    },
    {
     "name": "stdout",
     "output_type": "stream",
     "text": [
      "../input/drowsiness-dataset-fold1-1/Fold1_part1/05/0.MOV\n"
     ]
    },
    {
     "name": "stderr",
     "output_type": "stream",
     "text": [
      " 67%|██████▋   | 2/3 [20:31<10:16, 616.72s/it]"
     ]
    },
    {
     "name": "stdout",
     "output_type": "stream",
     "text": [
      "../input/drowsiness-dataset-fold1-1/Fold1_part1/05/5.MOV\n"
     ]
    },
    {
     "name": "stderr",
     "output_type": "stream",
     "text": [
      "100%|██████████| 3/3 [30:28<00:00, 609.40s/it]\n",
      "  0%|          | 0/3 [00:00<?, ?it/s]"
     ]
    },
    {
     "name": "stdout",
     "output_type": "stream",
     "text": [
      "../input/drowsiness-dataset-fold1-1/Fold1_part1/06/5.mp4\n"
     ]
    },
    {
     "name": "stderr",
     "output_type": "stream",
     "text": [
      " 33%|███▎      | 1/3 [16:48<33:37, 1008.84s/it]"
     ]
    },
    {
     "name": "stdout",
     "output_type": "stream",
     "text": [
      "../input/drowsiness-dataset-fold1-1/Fold1_part1/06/10.mp4\n"
     ]
    },
    {
     "name": "stderr",
     "output_type": "stream",
     "text": [
      " 67%|██████▋   | 2/3 [28:58<14:04, 844.64s/it] "
     ]
    },
    {
     "name": "stdout",
     "output_type": "stream",
     "text": [
      "../input/drowsiness-dataset-fold1-1/Fold1_part1/06/0.mp4\n"
     ]
    },
    {
     "name": "stderr",
     "output_type": "stream",
     "text": [
      "100%|██████████| 3/3 [54:28<00:00, 1089.61s/it]\n",
      "  0%|          | 0/3 [00:00<?, ?it/s]"
     ]
    },
    {
     "name": "stdout",
     "output_type": "stream",
     "text": [
      "../input/drowsiness-dataset-fold1-1/Fold1_part1/02/10.MOV\n"
     ]
    },
    {
     "name": "stderr",
     "output_type": "stream",
     "text": [
      " 33%|███▎      | 1/3 [21:31<43:02, 1291.19s/it]"
     ]
    },
    {
     "name": "stdout",
     "output_type": "stream",
     "text": [
      "../input/drowsiness-dataset-fold1-1/Fold1_part1/02/0.mov\n"
     ]
    },
    {
     "name": "stderr",
     "output_type": "stream",
     "text": [
      " 67%|██████▋   | 2/3 [41:58<20:53, 1253.33s/it]"
     ]
    },
    {
     "name": "stdout",
     "output_type": "stream",
     "text": [
      "../input/drowsiness-dataset-fold1-1/Fold1_part1/02/5.MOV\n"
     ]
    },
    {
     "name": "stderr",
     "output_type": "stream",
     "text": [
      "100%|██████████| 3/3 [1:03:54<00:00, 1278.10s/it]\n",
      "  0%|          | 0/3 [00:00<?, ?it/s]"
     ]
    },
    {
     "name": "stdout",
     "output_type": "stream",
     "text": [
      "../input/drowsiness-dataset-fold1-1/Fold1_part1/04/5.mp4\n"
     ]
    },
    {
     "name": "stderr",
     "output_type": "stream",
     "text": [
      " 33%|███▎      | 1/3 [10:48<21:37, 648.57s/it]"
     ]
    },
    {
     "name": "stdout",
     "output_type": "stream",
     "text": [
      "../input/drowsiness-dataset-fold1-1/Fold1_part1/04/10.mp4\n"
     ]
    },
    {
     "name": "stderr",
     "output_type": "stream",
     "text": [
      " 67%|██████▋   | 2/3 [14:24<06:34, 394.31s/it]"
     ]
    },
    {
     "name": "stdout",
     "output_type": "stream",
     "text": [
      "../input/drowsiness-dataset-fold1-1/Fold1_part1/04/0.mp4\n"
     ]
    },
    {
     "name": "stderr",
     "output_type": "stream",
     "text": [
      "100%|██████████| 3/3 [18:06<00:00, 362.26s/it]\n",
      "  0%|          | 0/3 [00:00<?, ?it/s]"
     ]
    },
    {
     "name": "stdout",
     "output_type": "stream",
     "text": [
      "../input/drowsiness-dataset-fold1-1/Fold1_part1/03/10.mov\n"
     ]
    },
    {
     "name": "stderr",
     "output_type": "stream",
     "text": [
      " 33%|███▎      | 1/3 [08:07<16:14, 487.27s/it]"
     ]
    },
    {
     "name": "stdout",
     "output_type": "stream",
     "text": [
      "../input/drowsiness-dataset-fold1-1/Fold1_part1/03/0.MOV\n"
     ]
    },
    {
     "name": "stderr",
     "output_type": "stream",
     "text": [
      " 67%|██████▋   | 2/3 [51:22<28:46, 1726.99s/it]"
     ]
    },
    {
     "name": "stdout",
     "output_type": "stream",
     "text": [
      "../input/drowsiness-dataset-fold1-1/Fold1_part1/03/5.mov\n"
     ]
    },
    {
     "name": "stderr",
     "output_type": "stream",
     "text": [
      "100%|██████████| 3/3 [59:56<00:00, 1198.99s/it]\n",
      "  0%|          | 0/3 [00:00<?, ?it/s]"
     ]
    },
    {
     "name": "stdout",
     "output_type": "stream",
     "text": [
      "../input/drowsiness-dataset-fold1-1/Fold1_part1/01/10.MOV\n"
     ]
    },
    {
     "name": "stderr",
     "output_type": "stream",
     "text": [
      " 33%|███▎      | 1/3 [20:10<40:20, 1210.49s/it]"
     ]
    },
    {
     "name": "stdout",
     "output_type": "stream",
     "text": [
      "../input/drowsiness-dataset-fold1-1/Fold1_part1/01/0.mov\n"
     ]
    },
    {
     "name": "stderr",
     "output_type": "stream",
     "text": [
      " 67%|██████▋   | 2/3 [41:52<21:04, 1264.34s/it]"
     ]
    },
    {
     "name": "stdout",
     "output_type": "stream",
     "text": [
      "../input/drowsiness-dataset-fold1-1/Fold1_part1/01/5.mov\n"
     ]
    },
    {
     "name": "stderr",
     "output_type": "stream",
     "text": [
      "100%|██████████| 3/3 [1:02:16<00:00, 1245.37s/it]\n"
     ]
    }
   ],
   "source": [
    "from tqdm import tqdm\n",
    "\n",
    "FOLD1_1 = '../input/drowsiness-dataset-fold1-1/Fold1_part1'\n",
    "ids = os.listdir('../input/drowsiness-dataset-fold1-1/Fold1_part1')\n",
    "data_list = []\n",
    "for idx in ids :\n",
    "    folder = os.path.join(FOLD1_1, idx)\n",
    "    files = os.listdir(folder)\n",
    "    for file in tqdm(files) :\n",
    "        print(os.path.join(folder,file))\n",
    "        datas = get_data_frame(os.path.join(folder, file))\n",
    "        data_list.append(datas)\n",
    "\n",
    "data_list = np.vstack(data_list)\n",
    "df = pd.DataFrame(data_list)\n",
    "df.columns = columns\n",
    "\n",
    "df.to_csv('Fold_1_1.csv')"
   ]
  }
 ],
 "metadata": {
  "kernelspec": {
   "display_name": "Python 3",
   "language": "python",
   "name": "python3"
  },
  "language_info": {
   "codemirror_mode": {
    "name": "ipython",
    "version": 3
   },
   "file_extension": ".py",
   "mimetype": "text/x-python",
   "name": "python",
   "nbconvert_exporter": "python",
   "pygments_lexer": "ipython3",
   "version": "3.7.9"
  },
  "papermill": {
   "default_parameters": {},
   "duration": 17379.432367,
   "end_time": "2021-02-13T17:23:47.662011",
   "environment_variables": {},
   "exception": null,
   "input_path": "__notebook__.ipynb",
   "output_path": "__notebook__.ipynb",
   "parameters": {},
   "start_time": "2021-02-13T12:34:08.229644",
   "version": "2.2.2"
  }
 },
 "nbformat": 4,
 "nbformat_minor": 4
}
