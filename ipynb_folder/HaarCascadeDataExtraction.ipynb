{
 "cells": [
  {
   "cell_type": "code",
   "execution_count": 1,
   "metadata": {
    "execution": {
     "iopub.execute_input": "2021-02-06T10:54:47.691448Z",
     "iopub.status.busy": "2021-02-06T10:54:47.690928Z",
     "iopub.status.idle": "2021-02-06T10:54:49.429550Z",
     "shell.execute_reply": "2021-02-06T10:54:49.428432Z"
    },
    "papermill": {
     "duration": 1.748912,
     "end_time": "2021-02-06T10:54:49.429791",
     "exception": false,
     "start_time": "2021-02-06T10:54:47.680879",
     "status": "completed"
    },
    "tags": []
   },
   "outputs": [],
   "source": [
    "import numpy as np\n",
    "import pandas as pd\n",
    "import os \n",
    "import cv2 \n",
    "import matplotlib.pyplot as plt\n",
    "import torch\n",
    "import torchvision"
   ]
  },
  {
   "cell_type": "code",
   "execution_count": 2,
   "metadata": {
    "execution": {
     "iopub.execute_input": "2021-02-06T10:54:49.443366Z",
     "iopub.status.busy": "2021-02-06T10:54:49.442864Z",
     "iopub.status.idle": "2021-02-06T10:54:49.460449Z",
     "shell.execute_reply": "2021-02-06T10:54:49.460007Z"
    },
    "papermill": {
     "duration": 0.025584,
     "end_time": "2021-02-06T10:54:49.460554",
     "exception": false,
     "start_time": "2021-02-06T10:54:49.434970",
     "status": "completed"
    },
    "tags": []
   },
   "outputs": [],
   "source": [
    "import torch \n",
    "import sys\n",
    "\n",
    "sys.path.insert(0,'../input/BlazeFaceRepo/')\n",
    "\n",
    "import blazeface"
   ]
  },
  {
   "cell_type": "code",
   "execution_count": 3,
   "metadata": {
    "execution": {
     "iopub.execute_input": "2021-02-06T10:54:49.810955Z",
     "iopub.status.busy": "2021-02-06T10:54:49.810372Z",
     "iopub.status.idle": "2021-02-06T10:54:54.184439Z",
     "shell.execute_reply": "2021-02-06T10:54:54.183423Z"
    },
    "papermill": {
     "duration": 4.719402,
     "end_time": "2021-02-06T10:54:54.184586",
     "exception": false,
     "start_time": "2021-02-06T10:54:49.465184",
     "status": "completed"
    },
    "tags": []
   },
   "outputs": [],
   "source": [
    "device = torch.device(\"cuda:0\" if torch.cuda.is_available() else \"cpu\")\n",
    "blazeface = blazeface.BlazeFace().to(device)\n",
    "blazeface.load_weights(\"../input/BlazeFaceRepo/blazeface.pth\")\n",
    "blazeface.load_anchors(\"../input/BlazeFaceRepo/anchors.npy\")"
   ]
  },
  {
   "cell_type": "code",
   "execution_count": 4,
   "metadata": {
    "execution": {
     "iopub.execute_input": "2021-02-06T10:54:54.210534Z",
     "iopub.status.busy": "2021-02-06T10:54:54.208835Z",
     "iopub.status.idle": "2021-02-06T10:54:54.211218Z",
     "shell.execute_reply": "2021-02-06T10:54:54.211604Z"
    },
    "papermill": {
     "duration": 0.022125,
     "end_time": "2021-02-06T10:54:54.211762",
     "exception": false,
     "start_time": "2021-02-06T10:54:54.189637",
     "status": "completed"
    },
    "tags": []
   },
   "outputs": [],
   "source": [
    "'''\n",
    "each data point contains FRAME LENGTH consecutive frames\n",
    "each data point is sampled every SAMPLE_LENGTH frames \n",
    "'''\n",
    "def get_data_frame(filename, label, frame_length=10, sample_length=3, size=(128,128)) :\n",
    "    cap = cv2.VideoCapture(filename)\n",
    "    length = int(cap.get(cv2.CAP_PROP_FRAME_COUNT))\n",
    "    frame_count = 0\n",
    "    data_points = []\n",
    "    labels = []\n",
    "    empty = True\n",
    "    data_point = None\n",
    "    while cap.isOpened() :\n",
    "        modular = frame_count % sample_length\n",
    "        ret, frame = cap.read()\n",
    "        if ret : \n",
    "            if modular == 0 :\n",
    "                '''\n",
    "                the selected frame go through face detection \n",
    "                the face is cropped out and resized\n",
    "                '''\n",
    "                origin_h, origin_w = frame.shape[:2]\n",
    "                frame_ = cv2.cvtColor(frame, cv2.COLOR_BGR2RGB)\n",
    "                frame_ = cv2.resize(frame_, (128,128))\n",
    "                faces = blazeface.predict_on_image(frame_)\n",
    "                '''\n",
    "                if no face is found, the adjacent frame is taken instead\n",
    "                '''\n",
    "                if len(faces) == 0 :\n",
    "                    continue\n",
    "                \n",
    "                faces = faces[(faces[:,0]-faces[:,2]).argsort()]\n",
    "                x_tl, y_tl, x_br, y_br = faces[0,:4] \n",
    "                x_tl = int(x_tl * origin_w)\n",
    "                x_br = int(x_br * origin_w)\n",
    "                y_tl = int(y_tl * origin_h)\n",
    "                y_br = int(y_br * origin_h)\n",
    "                x_tl = x_tl if x_tl > 0 else 0 \n",
    "                y_tl = y_tl if y_tl > 0 else 0 \n",
    "                x_br = x_br if x_br < origin_w else origin_w - 1\n",
    "                y_br = y_br if y_br < origin_h else origin_h - 1\n",
    "                try :\n",
    "                    face = cv2.resize(frame[y_tl:y_br, x_tl:x_br, :], size)\n",
    "                    face = np.expand_dims(face, axis=0)\n",
    "                except Exception as e :\n",
    "                    print(e)\n",
    "                    plt.imshow(frame)\n",
    "                    plt.show()\n",
    "                    print(frame.shape)\n",
    "                    print(frame[y_tl:y_br, x_tl:x_br, :])\n",
    "                    print((x_tl, y_tl, x_br, y_br))\n",
    "                    continue\n",
    "                if empty :\n",
    "                    data_point = face\n",
    "                    empty = False\n",
    "                else :\n",
    "                    data_point = np.vstack([data_point, face])\n",
    "                    if data_point.shape[0] == frame_length :\n",
    "                        data_points.append(np.expand_dims(data_point,axis=0))\n",
    "                        labels.append(label)\n",
    "                        empty = True\n",
    "        else :\n",
    "            break\n",
    "        frame_count += 1\n",
    "    cap.release()\n",
    "    return data_points, labels"
   ]
  },
  {
   "cell_type": "code",
   "execution_count": 5,
   "metadata": {
    "execution": {
     "iopub.execute_input": "2021-02-06T10:54:54.228136Z",
     "iopub.status.busy": "2021-02-06T10:54:54.227633Z",
     "iopub.status.idle": "2021-02-06T11:55:07.766821Z",
     "shell.execute_reply": "2021-02-06T11:55:07.765454Z"
    },
    "papermill": {
     "duration": 3613.550395,
     "end_time": "2021-02-06T11:55:07.766955",
     "exception": false,
     "start_time": "2021-02-06T10:54:54.216560",
     "status": "completed"
    },
    "tags": []
   },
   "outputs": [
    {
     "name": "stderr",
     "output_type": "stream",
     "text": [
      "100%|██████████| 3/3 [07:31<00:00, 150.40s/it]\n",
      "100%|██████████| 3/3 [09:29<00:00, 189.70s/it]\n",
      "100%|██████████| 3/3 [15:17<00:00, 305.83s/it]\n",
      "100%|██████████| 3/3 [04:25<00:00, 88.49s/it]\n",
      "100%|██████████| 3/3 [10:32<00:00, 210.74s/it]\n",
      "100%|██████████| 3/3 [12:57<00:00, 259.30s/it]\n"
     ]
    }
   ],
   "source": [
    "from tqdm import tqdm\n",
    "\n",
    "FOLD1_1 = '../input/drowsiness-dataset-fold1-1/Fold1_part1'\n",
    "ids = os.listdir('../input/drowsiness-dataset-fold1-1/Fold1_part1')\n",
    "data_list = []\n",
    "label_list = []\n",
    "frame_list = []\n",
    "\n",
    "for idx in ids :\n",
    "    if idx != '01' :\n",
    "        folder = os.path.join(FOLD1_1, idx)\n",
    "        files = os.listdir(folder)\n",
    "        for file in tqdm(files) :\n",
    "            l = int(file[:-4])\n",
    "            datas, labels= get_data_frame(os.path.join(folder, file), l)\n",
    "            data_list += datas\n",
    "            label_list += labels\n",
    "test_list = []\n",
    "test_label_list = []\n",
    "folder = os.path.join(FOLD1_1, '01')\n",
    "files = os.listdir(folder)\n",
    "for file in tqdm(files) :\n",
    "    l = int(file[:-4])\n",
    "    datas, labels= get_data_frame(os.path.join(folder, file), l)\n",
    "    test_list += datas\n",
    "    test_label_list += labels"
   ]
  },
  {
   "cell_type": "code",
   "execution_count": 6,
   "metadata": {
    "execution": {
     "iopub.execute_input": "2021-02-06T11:55:07.804426Z",
     "iopub.status.busy": "2021-02-06T11:55:07.803576Z",
     "iopub.status.idle": "2021-02-06T11:56:01.967142Z",
     "shell.execute_reply": "2021-02-06T11:56:01.966489Z"
    },
    "papermill": {
     "duration": 54.187641,
     "end_time": "2021-02-06T11:56:01.967277",
     "exception": false,
     "start_time": "2021-02-06T11:55:07.779636",
     "status": "completed"
    },
    "tags": []
   },
   "outputs": [],
   "source": [
    "data = np.vstack(data_list)\n",
    "label = np.array(label_list)\n",
    "test = np.vstack(test_list)\n",
    "test_label = np.array(test_label_list)\n",
    "\n",
    "np.save('./data.npy', data)\n",
    "np.save('./label.npy', label)\n",
    "np.save('./test.npy', test)\n",
    "np.save('./test_label.npy', test_label)"
   ]
  },
  {
   "cell_type": "markdown",
   "metadata": {
    "tags": [
     "papermill-error-cell-tag"
    ]
   },
   "source": [
    "<span id=\"papermill-error-cell\" style=\"color:red; font-family:Helvetica Neue, Helvetica, Arial, sans-serif; font-size:2em;\">Execution using papermill encountered an exception here and stopped:</span>"
   ]
  },
  {
   "cell_type": "code",
   "execution_count": 7,
   "metadata": {
    "execution": {
     "iopub.execute_input": "2021-02-06T11:56:02.669335Z",
     "iopub.status.busy": "2021-02-06T11:56:02.668780Z",
     "iopub.status.idle": "2021-02-06T11:56:02.871850Z",
     "shell.execute_reply": "2021-02-06T11:56:02.870994Z"
    },
    "papermill": {
     "duration": 0.310146,
     "end_time": "2021-02-06T11:56:02.871988",
     "exception": false,
     "start_time": "2021-02-06T11:56:02.561842",
     "status": "completed"
    },
    "tags": []
   },
   "outputs": [
    {
     "ename": "AttributeError",
     "evalue": "module 'numpy.random' has no attribute 'permuation'",
     "output_type": "error",
     "traceback": [
      "\u001b[0;31m---------------------------------------------------------------------------\u001b[0m",
      "\u001b[0;31mAttributeError\u001b[0m                            Traceback (most recent call last)",
      "\u001b[0;32m<ipython-input-7-9e7b6c607aaf>\u001b[0m in \u001b[0;36m<module>\u001b[0;34m\u001b[0m\n\u001b[0;32m----> 1\u001b[0;31m \u001b[0mperm_test\u001b[0m \u001b[0;34m=\u001b[0m \u001b[0mnp\u001b[0m\u001b[0;34m.\u001b[0m\u001b[0mrandom\u001b[0m\u001b[0;34m.\u001b[0m\u001b[0mpermuation\u001b[0m\u001b[0;34m(\u001b[0m\u001b[0mtest\u001b[0m\u001b[0;34m.\u001b[0m\u001b[0mshape\u001b[0m\u001b[0;34m[\u001b[0m\u001b[0;36m0\u001b[0m\u001b[0;34m]\u001b[0m\u001b[0;34m)\u001b[0m\u001b[0;34m[\u001b[0m\u001b[0;34m:\u001b[0m\u001b[0;36m500\u001b[0m\u001b[0;34m]\u001b[0m\u001b[0;34m\u001b[0m\u001b[0;34m\u001b[0m\u001b[0m\n\u001b[0m\u001b[1;32m      2\u001b[0m \u001b[0mperm_train\u001b[0m \u001b[0;34m=\u001b[0m \u001b[0mnp\u001b[0m\u001b[0;34m.\u001b[0m\u001b[0mrandom\u001b[0m\u001b[0;34m.\u001b[0m\u001b[0mpermuation\u001b[0m\u001b[0;34m(\u001b[0m\u001b[0mdata\u001b[0m\u001b[0;34m.\u001b[0m\u001b[0mshape\u001b[0m\u001b[0;34m[\u001b[0m\u001b[0;36m0\u001b[0m\u001b[0;34m]\u001b[0m\u001b[0;34m)\u001b[0m\u001b[0;34m[\u001b[0m\u001b[0;34m:\u001b[0m\u001b[0;36m5000\u001b[0m\u001b[0;34m]\u001b[0m\u001b[0;34m\u001b[0m\u001b[0;34m\u001b[0m\u001b[0m\n\u001b[1;32m      3\u001b[0m \u001b[0mdata\u001b[0m\u001b[0;34m,\u001b[0m \u001b[0mlabel\u001b[0m \u001b[0;34m=\u001b[0m \u001b[0mdata\u001b[0m\u001b[0;34m[\u001b[0m\u001b[0mperm_train\u001b[0m\u001b[0;34m]\u001b[0m\u001b[0;34m,\u001b[0m \u001b[0mlabel\u001b[0m\u001b[0;34m[\u001b[0m\u001b[0mperm_train\u001b[0m\u001b[0;34m]\u001b[0m\u001b[0;34m\u001b[0m\u001b[0;34m\u001b[0m\u001b[0m\n\u001b[1;32m      4\u001b[0m \u001b[0mtest\u001b[0m\u001b[0;34m,\u001b[0m \u001b[0mtest_label\u001b[0m \u001b[0;34m=\u001b[0m \u001b[0mtest\u001b[0m\u001b[0;34m[\u001b[0m\u001b[0mperm_test\u001b[0m\u001b[0;34m]\u001b[0m\u001b[0;34m,\u001b[0m \u001b[0mtest_label\u001b[0m\u001b[0;34m[\u001b[0m\u001b[0mperm_test\u001b[0m\u001b[0;34m]\u001b[0m\u001b[0;34m\u001b[0m\u001b[0;34m\u001b[0m\u001b[0m\n\u001b[1;32m      5\u001b[0m \u001b[0mnp\u001b[0m\u001b[0;34m.\u001b[0m\u001b[0msave\u001b[0m\u001b[0;34m(\u001b[0m\u001b[0;34m'./data_5k.npy'\u001b[0m\u001b[0;34m,\u001b[0m \u001b[0mdata\u001b[0m\u001b[0;34m)\u001b[0m\u001b[0;34m\u001b[0m\u001b[0;34m\u001b[0m\u001b[0m\n",
      "\u001b[0;31mAttributeError\u001b[0m: module 'numpy.random' has no attribute 'permuation'"
     ]
    }
   ],
   "source": [
    "perm_test = np.random.permuation(test.shape[0])[:500]\n",
    "perm_train = np.random.permuation(data.shape[0])[:5000]\n",
    "data, label = data[perm_train], label[perm_train]\n",
    "test, test_label = test[perm_test], test_label[perm_test]\n",
    "np.save('./data_5k.npy', data)\n",
    "np.save('./label_5k.npy', label)\n",
    "np.save('./test_500.npy', test)\n",
    "np.save('./test_label_500.npy', test_label)"
   ]
  }
 ],
 "metadata": {
  "kernelspec": {
   "display_name": "Python 3",
   "language": "python",
   "name": "python3"
  },
  "language_info": {
   "codemirror_mode": {
    "name": "ipython",
    "version": 3
   },
   "file_extension": ".py",
   "mimetype": "text/x-python",
   "name": "python",
   "nbconvert_exporter": "python",
   "pygments_lexer": "ipython3",
   "version": "3.7.9"
  },
  "papermill": {
   "default_parameters": {},
   "duration": 3682.858701,
   "end_time": "2021-02-06T11:56:05.571546",
   "environment_variables": {},
   "exception": null,
   "input_path": "__notebook__.ipynb",
   "output_path": "__notebook__.ipynb",
   "parameters": {},
   "start_time": "2021-02-06T10:54:42.712845",
   "version": "2.2.2"
  }
 },
 "nbformat": 4,
 "nbformat_minor": 4
}
